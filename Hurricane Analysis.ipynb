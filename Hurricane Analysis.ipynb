{
 "cells": [
  {
   "cell_type": "markdown",
   "id": "58875e7a",
   "metadata": {},
   "source": [
    "# Hurricane Analysis"
   ]
  },
  {
   "cell_type": "markdown",
   "id": "9a2d9627",
   "metadata": {},
   "source": [
    "#### Overview"
   ]
  },
  {
   "cell_type": "markdown",
   "id": "633e5dde",
   "metadata": {},
   "source": [
    "This project is slightly different than others you have encountered thus far. Instead of a step-by-step tutorial, this project contains a series of open-ended requirements which describe the project you'll be building. There are many possible ways to correctly fulfill all of these requirements, and you should expect to use the internet, Codecademy, and other resources when you encounter a problem that you cannot easily solve."
   ]
  },
  {
   "cell_type": "markdown",
   "id": "52f01f07",
   "metadata": {},
   "source": [
    "#### Project Goals"
   ]
  },
  {
   "cell_type": "markdown",
   "id": "d9d06c43",
   "metadata": {},
   "source": [
    "You will work to write several functions that organize and manipulate data about Category 5 Hurricanes, the strongest hurricanes as rated by their wind speed. Each one of these functions will use a number of parameters, conditionals, lists, dictionaries, string manipulation, and return statements."
   ]
  },
  {
   "cell_type": "markdown",
   "id": "7fbb9fb5",
   "metadata": {},
   "source": [
    "#### Prerequisites"
   ]
  },
  {
   "cell_type": "markdown",
   "id": "4732a1e8",
   "metadata": {},
   "source": [
    "In order to complete this project, you should have completed the Loops and Dictionaries sections of the [Learn Python 3 Course](https://www.codecademy.com/learn/learn-python-3). This content is also covered in the [Data Scientist Career Path](https://www.codecademy.com/learn/paths/data-science/)."
   ]
  },
  {
   "cell_type": "markdown",
   "id": "1e924903",
   "metadata": {},
   "source": [
    "## Project Requirements"
   ]
  },
  {
   "cell_type": "markdown",
   "id": "35d6f74d",
   "metadata": {},
   "source": [
    "1. Hurricanes, also known as cyclones or typhoons, are one of the most powerful forces of nature on Earth. Due to climate change caused by human activity, the number and intensity of hurricanes has risen, calling for better preparation by the many communities that are devastated by them. As a concerned environmentalist, you want to look at data about the most powerful hurricanes that have occured. \n",
    "\n",
    "   Begin by looking at the `damages` list. The list contains strings representing the total cost in USD(`$`) caused by `34` category 5 hurricanes (wind speeds $\\ge$ 157 mph (252 km/h)) in the Atlantic region. For some of the hurricanes, damage data was not recorded (`\"Damages not recorded\"`), while the rest are written in the format `\"Prefix-B/M\"`, where `B` stands for billions (`1000000000`) and `M` stands for millions (`1000000`).\n",
    "   \n",
    "   Write a function that returns a new list of updated damages where the recorded data is converted to float values and the missing data is retained as `\"Damages not recorded\"`.\n",
    "   \n",
    "   Test your function with the data stored in `damages`."
   ]
  },
  {
   "cell_type": "code",
   "execution_count": 556,
   "id": "d8d3c50b",
   "metadata": {},
   "outputs": [
    {
     "name": "stdout",
     "output_type": "stream",
     "text": [
      "{'M': 1000000, 'B': 1000000000}\n",
      "10             326000000.0\n",
      "11              60300000.0\n",
      "12             208000000.0\n",
      "13            1420000000.0\n",
      "14              25400000.0\n",
      "15    Damages not recorded\n",
      "16            1540000000.0\n",
      "17            1240000000.0\n",
      "18            7100000000.0\n",
      "19           10000000000.0\n",
      "dtype: object\n",
      "object\n"
     ]
    }
   ],
   "source": [
    "import pandas as pd\n",
    "import numpy as np\n",
    "# damages (USD($)) of hurricanes\n",
    "damages = ['Damages not recorded', '100M', 'Damages not recorded', '40M',\n",
    "          '27.9M', '5M', 'Damages not recorded', '306M', '2M', '65.8M',\n",
    "          '326M', '60.3M', '208M', '1.42B', '25.4M', 'Damages not recorded',\n",
    "          '1.54B', '1.24B', '7.1B', '10B', '26.5B', '6.2B', '5.37B', '23.3B',\n",
    "          '1.01B', '125B', '12B', '29.4B', '1.76B', '720M', '15.1B', '64.8B',\n",
    "          '91.6B', '25.1B']\n",
    "\n",
    "# 1\n",
    "# Update Recorded Damages\n",
    "conversion = {\"M\": 1000000,\n",
    "             \"B\": 1000000000}\n",
    "damagess = pd.Series(damages)\n",
    "# test function by updating damages\n",
    "print (conversion)\n",
    "import string\n",
    "damagess = damagess.apply(lambda x: float(x[:-1]) * conversion[x[-1]] if x!= \"Damages not recorded\" else \"Damages not recorded\")\n",
    "print (damagess[10:20])\n",
    "damagess = damagess.apply(lambda x: float(x) if x != \"Damages not recorded\" else \"Damages not recorded\")\n",
    "\n",
    "\n",
    "\n",
    "print(damagess.dtypes)"
   ]
  },
  {
   "cell_type": "markdown",
   "id": "36ac47b6",
   "metadata": {},
   "source": [
    "2. Additional data collected on the `34` strongest Atlantic hurricanes are provided in a series of lists. The data includes:\n",
    "   - `names`: names of the hurricanes\n",
    "   - `months`: months in which the hurricanes occurred\n",
    "   - `years`: years in which the hurricanes occurred\n",
    "   - `max_sustained_winds`: maximum sustained winds (miles per hour) of the hurricanes\n",
    "   - `areas_affected`: list of different areas affected by each of the hurricanes\n",
    "   - `deaths`: total number of deaths caused by each of the hurricanes\n",
    "   \n",
    "   The data is organized such that the data at each index, from `0` to `33`, corresponds to the same hurricane.\n",
    "   \n",
    "   For example, `names[0]` yields the \"Cuba I\" hurricane, which occurred in `months[0]` (October) `years[0]` (1924).\n",
    "   \n",
    "   Write a function that constructs a dictionary made out of the lists, where the keys of the dictionary are the names of the hurricanes, and the values are dictionaries themselves containing a key for each piece of data (`Name`, `Month`, `Year`, `Max Sustained Wind`, `Areas Affected`, `Damage`, `Death`) about the hurricane.\n",
    "   \n",
    "   Thus the key `\"Cuba I\"` would have the value: `{'Name': 'Cuba I', 'Month': 'October', 'Year': 1924, 'Max Sustained Wind': 165, 'Areas Affected': ['Central America', 'Mexico', 'Cuba', 'Florida', 'The Bahamas'], 'Damage': 'Damages not recorded', 'Deaths': 90}`.\n",
    "   \n",
    "   Test your function on the lists of data provided."
   ]
  },
  {
   "cell_type": "code",
   "execution_count": 557,
   "id": "641aa113",
   "metadata": {},
   "outputs": [],
   "source": [
    "# names of hurricanes\n",
    "names = ['Cuba I', 'San Felipe II Okeechobee', 'Bahamas', 'Cuba II', 'CubaBrownsville', 'Tampico', 'Labor Day', 'New England', 'Carol', 'Janet', 'Carla', 'Hattie', 'Beulah', 'Camille', 'Edith', 'Anita', 'David', 'Allen', 'Gilbert', 'Hugo', 'Andrew', 'Mitch', 'Isabel', 'Ivan', 'Emily', 'Katrina', 'Rita', 'Wilma', 'Dean', 'Felix', 'Matthew', 'Irma', 'Maria', 'Michael']\n",
    "\n",
    "# months of hurricanes\n",
    "months = ['October', 'September', 'September', 'November', 'August', 'September', 'September', 'September', 'September', 'September', 'September', 'October', 'September', 'August', 'September', 'September', 'August', 'August', 'September', 'September', 'August', 'October', 'September', 'September', 'July', 'August', 'September', 'October', 'August', 'September', 'October', 'September', 'September', 'October']\n",
    "\n",
    "# years of hurricanes\n",
    "years = [1924, 1928, 1932, 1932, 1933, 1933, 1935, 1938, 1953, 1955, 1961, 1961, 1967, 1969, 1971, 1977, 1979, 1980, 1988, 1989, 1992, 1998, 2003, 2004, 2005, 2005, 2005, 2005, 2007, 2007, 2016, 2017, 2017, 2018]\n",
    "\n",
    "# maximum sustained winds (mph) of hurricanes\n",
    "max_sustained_winds = [165, 160, 160, 175, 160, 160, 185, 160, 160, 175, 175, 160, 160, 175, 160, 175, 175, 190, 185, 160, 175, 180, 165, 165, 160, 175, 180, 185, 175, 175, 165, 180, 175, 160]\n",
    "\n",
    "# areas affected by each hurricane\n",
    "areas_affected = [['Central America', 'Mexico', 'Cuba', 'Florida', 'The Bahamas'], ['Lesser Antilles', 'The Bahamas', 'United States East Coast', 'Atlantic Canada'], ['The Bahamas', 'Northeastern United States'], ['Lesser Antilles', 'Jamaica', 'Cayman Islands', 'Cuba', 'The Bahamas', 'Bermuda'], ['The Bahamas', 'Cuba', 'Florida', 'Texas', 'Tamaulipas'], ['Jamaica', 'Yucatn Peninsula'], ['The Bahamas', 'Florida', 'Georgia', 'The Carolinas', 'Virginia'], ['Southeastern United States', 'Northeastern United States', 'Southwestern Quebec'], ['Bermuda', 'New England', 'Atlantic Canada'], ['Lesser Antilles', 'Central America'], ['Texas', 'Louisiana', 'Midwestern United States'], ['Central America'], ['The Caribbean', 'Mexico', 'Texas'], ['Cuba', 'United States Gulf Coast'], ['The Caribbean', 'Central America', 'Mexico', 'United States Gulf Coast'], ['Mexico'], ['The Caribbean', 'United States East coast'], ['The Caribbean', 'Yucatn Peninsula', 'Mexico', 'South Texas'], ['Jamaica', 'Venezuela', 'Central America', 'Hispaniola', 'Mexico'], ['The Caribbean', 'United States East Coast'], ['The Bahamas', 'Florida', 'United States Gulf Coast'], ['Central America', 'Yucatn Peninsula', 'South Florida'], ['Greater Antilles', 'Bahamas', 'Eastern United States', 'Ontario'], ['The Caribbean', 'Venezuela', 'United States Gulf Coast'], ['Windward Islands', 'Jamaica', 'Mexico', 'Texas'], ['Bahamas', 'United States Gulf Coast'], ['Cuba', 'United States Gulf Coast'], ['Greater Antilles', 'Central America', 'Florida'], ['The Caribbean', 'Central America'], ['Nicaragua', 'Honduras'], ['Antilles', 'Venezuela', 'Colombia', 'United States East Coast', 'Atlantic Canada'], ['Cape Verde', 'The Caribbean', 'British Virgin Islands', 'U.S. Virgin Islands', 'Cuba', 'Florida'], ['Lesser Antilles', 'Virgin Islands', 'Puerto Rico', 'Dominican Republic', 'Turks and Caicos Islands'], ['Central America', 'United States Gulf Coast (especially Florida Panhandle)']]\n",
    "\n",
    "# damages (USD($)) of hurricanes\n",
    "damages = ['Damages not recorded', '100M', 'Damages not recorded', '40M', '27.9M', '5M', 'Damages not recorded', '306M', '2M', '65.8M', '326M', '60.3M', '208M', '1.42B', '25.4M', 'Damages not recorded', '1.54B', '1.24B', '7.1B', '10B', '26.5B', '6.2B', '5.37B', '23.3B', '1.01B', '125B', '12B', '29.4B', '1.76B', '720M', '15.1B', '64.8B', '91.6B', '25.1B']\n",
    "\n",
    "# deaths for each hurricane\n",
    "deaths = [90,4000,16,3103,179,184,408,682,5,1023,43,319,688,259,37,11,2068,269,318,107,65,19325,51,124,17,1836,125,87,45,133,603,138,3057,74]\n",
    "\n",
    "# 2\n",
    "# Create a Table\n",
    "from collections import defaultdict\n",
    "def org__hurricanes_by_search_index(names, months, years, max_sustained_winds, areas_affected, damagess, deaths, search_index):\n",
    "    #print(\"search_index:\", search_index)\n",
    "    \"\"\"hurr_d = defaultdict.fromkeys(search_index)\n",
    "    print(\"Default_dict_print\", hurr_d)\n",
    "    \"\"\"\n",
    "    hurr_d= {}\n",
    "    for index in range(0,len(search_index)):\n",
    "        hurr_d.setdefault(search_index[index], [])\n",
    "        hurr_d[search_index[index]].append({'Name': names[index], 'Month': months[index], 'Year': years[index], 'Max Sustained Wind': max_sustained_winds[index], 'Areas Affected': areas_affected[index], 'Damage': damagess[index], 'Deaths': deaths[index]})\n",
    "        \n",
    "    return hurr_d\n",
    "\n",
    "def create_dictionary(names, months, years, max_sustained_winds, areas_affected, damagess, deaths):\n",
    "    hurr_d = {}\n",
    "    for index in range(0,len(names)):\n",
    "        hurr_d[names[index]] = {'Name': names[index], 'Month': months[index], 'Year': years[index], 'Max Sustained Wind': max_sustained_winds[index], 'Areas Affected': areas_affected[index], 'Damage': damagess[index], 'Deaths': deaths[index]}\n",
    "    return hurr_d\n",
    "# Create and view the hurricanes dictionary\n",
    "hurricanes = create_dictionary(names, months, years, max_sustained_winds, areas_affected, damagess, deaths)\n",
    "#print(hurricanes)"
   ]
  },
  {
   "cell_type": "markdown",
   "id": "6d0a1933",
   "metadata": {},
   "source": [
    "3. In addition to organizing the hurricanes in a dictionary with names as the key, you want to be able to organize the hurricanes by year.\n",
    "\n",
    "   Write a function that converts the current dictionary of hurricanes to a new dictionary, where the keys are years and the values are lists containing a dictionary for each hurricane that occurred in that year.\n",
    "   \n",
    "   For example, the key `1932` would yield the value: `[{'Name': 'Bahamas', 'Month': 'September', 'Year': 1932, 'Max Sustained Wind': 160, 'Areas Affected': ['The Bahamas', 'Northeastern United States'], 'Damage': 'Damage not recorded', 'Deaths': 16}, {'Name': 'Cuba II', 'Month': 'November', 'Year': 1932, 'Max Sustained Wind': 175, 'Areas Affected': ['Lesser Antilles', 'Jamaica', 'Cayman Islands', 'Cuba', 'The Bahamas', 'Bermuda'], 'Damage': 40000000.0, 'Deaths': 3103}]`.\n",
    "   \n",
    "   Test your function on your hurricane dictionary."
   ]
  },
  {
   "cell_type": "code",
   "execution_count": 558,
   "id": "1ef2edea",
   "metadata": {},
   "outputs": [],
   "source": [
    "# 3\n",
    "# Organizing by Year\n",
    "\"\"\"def org__hurricanes_by_year(names, months, years, max_sustained_winds, areas_affected, damagess, deaths, search_index):\n",
    "    hurr_d = {}\n",
    "    for index in range(0,len(search_index)):\n",
    "        hurr_d[search_index[index]].append({'Name': names[index], 'Month': months[index], 'Year': years[index], 'Max Sustained Wind': max_sustained_winds[index], 'Areas Affected': areas_affected[index], 'Damage': damagess[index], 'Deaths': deaths[index]})\n",
    "    return hurr_d\n",
    "\"\"\"\n",
    "# create a new dictionary of hurricanes with year and key\n",
    "yearly_hurr = org__hurricanes_by_search_index(names, months, years, max_sustained_winds, areas_affected, damagess, deaths, years)\n",
    "#print(yearly_hurr)"
   ]
  },
  {
   "cell_type": "markdown",
   "id": "66973f77",
   "metadata": {},
   "source": [
    "4. You believe that knowing how often each of the areas of the Atlantic are affected by these strong hurricanes is important for making preparations for future hurricanes.\n",
    "\n",
    "   Write a function that counts how often each area is listed as an affected area of a hurricane. Store and return the results in a dictionary where the keys are the affected areas and the values are counts of how many times the areas were affected.\n",
    "   \n",
    "   Test your function on your hurricane dictionary."
   ]
  },
  {
   "cell_type": "code",
   "execution_count": 559,
   "id": "bff86f77",
   "metadata": {},
   "outputs": [],
   "source": [
    "# 4\n",
    "# Counting Damaged Areas\n",
    "\n",
    "def count_aff_by_column(hurricanes, column):\n",
    "    counter_dict = {}\n",
    "    for cane in hurricanes:\n",
    "        hurricane = (hurricanes[cane])\n",
    "        #print(hurricane)\n",
    "        try:\n",
    "            for item in hurricane[column]:\n",
    "                if item in counter_dict:\n",
    "                    counter_dict[item] +=1\n",
    "                else: \n",
    "                    counter_dict[item] = 1\n",
    "        except TypeError: \n",
    "            counter_dict[hurricane[\"Name\"]] = hurricane[column]\n",
    "\n",
    "    return counter_dict\n",
    "\n",
    "\n",
    "    \n",
    "# create dictionary of areas to store the number of hurricanes involved in\n",
    "areas_affected = (count_aff_by_column(hurricanes, \"Areas Affected\"))\n",
    "#print(areas_affected)"
   ]
  },
  {
   "cell_type": "markdown",
   "id": "e015eeb3",
   "metadata": {},
   "source": [
    "5. Write a function that finds the area affected by the most hurricanes, and how often it was hit.\n",
    "\n",
    "   Test your function on your affected area dictionary."
   ]
  },
  {
   "cell_type": "code",
   "execution_count": 560,
   "id": "643c73f9",
   "metadata": {},
   "outputs": [
    {
     "name": "stdout",
     "output_type": "stream",
     "text": [
      "Central America 9\n",
      "Mitch 19325\n",
      "Katrina 125000000000.0\n"
     ]
    }
   ],
   "source": [
    "# 5\n",
    "# Calculating Maximum Hurricane Count\n",
    "def most_affected_by_column(hurricanes, column):\n",
    "    return (max(count_aff_by_column(hurricanes, column), key=count_aff_by_column(hurricanes, column).get), max(count_aff_by_column(hurricanes, column).values()))\n",
    "# find most frequently affected area and the number of hurricanes involved in\n",
    "max_area, max_area_count = most_affected_by_column(hurricanes, \"Areas Affected\")\n",
    "print(max_area, max_area_count)\n",
    "\n",
    "max_deaths, max_deaths_count = most_affected_by_column(hurricanes, \"Deaths\")\n",
    "print(max_deaths, max_deaths_count)\n",
    "\n",
    "max_damage, max_damage_count = most_affected_by_column(hurricanes, \"Damage\")\n",
    "print(max_damage, max_damage_count)"
   ]
  },
  {
   "cell_type": "markdown",
   "id": "4c120f59",
   "metadata": {},
   "source": [
    "6. Write a function that finds the hurricane that caused the greatest number of deaths, and how many deaths it caused.\n",
    "\n",
    "   Test your function on your hurricane dictionary."
   ]
  },
  {
   "cell_type": "code",
   "execution_count": 561,
   "id": "ced02448",
   "metadata": {},
   "outputs": [
    {
     "name": "stdout",
     "output_type": "stream",
     "text": [
      "Mitch 19325\n"
     ]
    }
   ],
   "source": [
    "# 6\n",
    "# Calculating the Deadliest Hurricane\n",
    "\n",
    "# find highest mortality hurricane and the number of deaths\n",
    "\n",
    "# find most frequently affected area and the number of hurricanes involved in\n",
    "\n",
    "\n",
    "max_deaths, max_deaths_count = most_affected_by_column(hurricanes, \"Deaths\")\n",
    "print(max_deaths, max_deaths_count)"
   ]
  },
  {
   "cell_type": "markdown",
   "id": "9ddd39b0",
   "metadata": {},
   "source": [
    "7. Just as hurricanes are rated by their windspeed, you want to try rating hurricanes based on other metrics.\n",
    "\n",
    "   Write a function that rates hurricanes on a mortality scale according to the following ratings, where the key is the rating and the value is the upper bound of deaths for that rating.\n",
    "   \n",
    "   ```py\n",
    "   mortality_scale = {0: 0,\n",
    "   1: 100,\n",
    "   2: 500,\n",
    "   3: 1000,\n",
    "   4: 10000}\n",
    "   ```\n",
    "   \n",
    "   For example, a hurricane with a `1` mortality rating would have resulted in greater than `0` but less than or equal to `100` deaths. A hurricane with a `5` mortality would have resulted in greater than `10000` deaths.\n",
    "   \n",
    "   Store the hurricanes in a new dictionary where the keys are the mortaility ratings and the values are lists containing a dictionary for each hurricane that falls into that mortality rating.\n",
    "   \n",
    "   Test your function on your hurricane dictionary."
   ]
  },
  {
   "cell_type": "code",
   "execution_count": 614,
   "id": "9eea4dc7",
   "metadata": {},
   "outputs": [
    {
     "name": "stdout",
     "output_type": "stream",
     "text": [
      "[{'Name': 'Mitch', 'Month': 'October', 'Year': 1998, 'Max Sustained Wind': 180, 'Areas Affected': ['Central America', 'Yucatn Peninsula', 'South Florida'], 'Damage': 6200000000.0, 'Deaths': 19325, 'Mortality_Rating': 5}]\n"
     ]
    }
   ],
   "source": [
    "\n",
    "# 7\n",
    "\n",
    "# Rating Hurricanes by Mortality\n",
    "def categorize_by_mortality(hurricanes):\n",
    "    rated_hurricanes = {}\n",
    "    for cane in hurricanes:\n",
    "        #print(hurricanes[cane][\"Deaths\"])\n",
    "        if hurricanes[cane][\"Deaths\"]==0:\n",
    "            hurricanes[cane][\"Mortality_Rating\"] = 0\n",
    "            rated_hurricanes[\"0\"].append(hurricanes[cane])\n",
    "        elif hurricanes[cane][\"Deaths\"]<=100:\n",
    "            hurricanes[cane][\"Mortality_Rating\"] = 1\n",
    "            if \"1\" in rated_hurricanes:\n",
    "                rated_hurricanes[\"1\"].append(hurricanes[cane])\n",
    "            else:\n",
    "                rated_hurricanes[\"1\"] = []\n",
    "                rated_hurricanes[\"1\"].append(hurricanes[cane])\n",
    "        elif hurricanes[cane][\"Deaths\"]<=500:\n",
    "            hurricanes[cane][\"Mortality_Rating\"] = 2\n",
    "            if \"2\" in rated_hurricanes:\n",
    "                rated_hurricanes[\"2\"].append(hurricanes[cane])\n",
    "            else:\n",
    "                rated_hurricanes[\"2\"] = []\n",
    "                rated_hurricanes[\"2\"].append(hurricanes[cane])\n",
    "        elif hurricanes[cane][\"Deaths\"]<=1000:\n",
    "            hurricanes[cane][\"Mortality_Rating\"] = 3\n",
    "            if \"3\" in rated_hurricanes:\n",
    "                rated_hurricanes[\"3\"].append(hurricanes[cane])\n",
    "            else:\n",
    "                rated_hurricanes[\"3\"] = []\n",
    "                rated_hurricanes[\"3\"].append(hurricanes[cane])\n",
    "        elif hurricanes[cane][\"Deaths\"]<=10000:\n",
    "            hurricanes[cane][\"Mortality_Rating\"] = 4\n",
    "            if \"4\" in rated_hurricanes:\n",
    "                rated_hurricanes[\"4\"].append(hurricanes[cane])\n",
    "            else:\n",
    "                rated_hurricanes[\"4\"] = []\n",
    "                rated_hurricanes[\"4\"].append(hurricanes[cane])\n",
    "        else: \n",
    "            hurricanes[cane][\"Mortality_Rating\"] = 5\n",
    "            if \"5\" in rated_hurricanes:\n",
    "                rated_hurricanes[\"5\"].append(hurricanes[cane])\n",
    "            else:\n",
    "                rated_hurricanes[\"5\"] = []\n",
    "                rated_hurricanes[\"5\"].append(hurricanes[cane])\n",
    "    #print (rated_hurricanes)\n",
    "    return rated_hurricanes\n",
    "\n",
    "\n",
    "\n",
    "\n",
    "\n",
    "\n",
    "hurricanes_by_mortality = categorize_by_mortality(hurricanes)\n",
    "print(hurricanes_by_mortality[\"5\"])\n",
    "\n",
    "    \n",
    "# categorize hurricanes in new dictionary with mortality severity as key\n"
   ]
  },
  {
   "cell_type": "markdown",
   "id": "199b0e1c",
   "metadata": {},
   "source": [
    "8. Write a function that finds the hurricane that caused the greatest damage, and how costly it was.\n",
    "\n",
    "   Test your function on your hurricane dictionary."
   ]
  },
  {
   "cell_type": "code",
   "execution_count": 615,
   "id": "b3dc79b4",
   "metadata": {},
   "outputs": [],
   "source": [
    "# 8\n",
    "# Calculating Hurricane Maximum Damage\n",
    "\n",
    "# find highest damage inducing hurricane and its total cost\n"
   ]
  },
  {
   "cell_type": "markdown",
   "id": "58d22ddc",
   "metadata": {},
   "source": [
    "9. Lastly, you want to rate hurricanes according to how much damage they cause.\n",
    "\n",
    "   Write a function that rates hurricanes on a damage scale according to the following ratings, where the key is the rating and the value is the upper bound of damage for that rating.\n",
    "   ```py\n",
    "   damage_scale = {0: 0,\n",
    "   1: 100000000,\n",
    "   2: 1000000000,\n",
    "   3: 10000000000,\n",
    "   4: 50000000000}\n",
    "   ```\n",
    "   \n",
    "   For example, a hurricane with a `1` damage rating would have resulted in damages greater than `0` USD but less than or equal to `100000000` USD. A hurricane with a `5` damage rating would have resulted in damages greater than `50000000000` USD (talk about a lot of money).\n",
    "   \n",
    "   Store the hurricanes in a new dictionary where the keys are damage ratings and the values are lists containing a dictionary for each hurricane that falls into that damage rating.\n",
    "   \n",
    "   Test your function on your hurricane dictionary."
   ]
  },
  {
   "cell_type": "code",
   "execution_count": 616,
   "id": "e543f487",
   "metadata": {},
   "outputs": [],
   "source": [
    "# 9\n",
    "# Rating Hurricanes by Damage\n",
    "damage_scale = {0: 0,\n",
    "                1: 100000000,\n",
    "                2: 1000000000,\n",
    "                3: 10000000000,\n",
    "                4: 50000000000}\n",
    "\n",
    "# categorize hurricanes in new dictionary with damage severity as key\n"
   ]
  },
  {
   "cell_type": "markdown",
   "id": "928c5fd2",
   "metadata": {},
   "source": [
    "## Solution"
   ]
  },
  {
   "cell_type": "markdown",
   "id": "252616a3",
   "metadata": {},
   "source": [
    "Great work! View the **Hurricane Analysis_Solution.ipynb** file or visit [our forums](https://discuss.codecademy.com/t/hurricane-analysis-challenge-project-python/462363) to compare your project to our sample solution code. You can also learn how to host your own solution on GitHub so you can share it with other learners! Your solution might look different than ours, and that's okay! There are multiple ways to solve these projects, and you'll learn more by seeing others' code."
   ]
  },
  {
   "cell_type": "code",
   "execution_count": null,
   "id": "da8f7141",
   "metadata": {},
   "outputs": [],
   "source": []
  }
 ],
 "metadata": {
  "kernelspec": {
   "display_name": "Python 3.9.13 ('base')",
   "language": "python",
   "name": "python3"
  },
  "language_info": {
   "codemirror_mode": {
    "name": "ipython",
    "version": 3
   },
   "file_extension": ".py",
   "mimetype": "text/x-python",
   "name": "python",
   "nbconvert_exporter": "python",
   "pygments_lexer": "ipython3",
   "version": "3.9.13"
  },
  "vscode": {
   "interpreter": {
    "hash": "5b52164d9b9f5cfe346183b0f5414b5fbbbb623916b9cfd367aa4426dfe4ffdb"
   }
  }
 },
 "nbformat": 4,
 "nbformat_minor": 5
}
