{
 "cells": [
  {
   "cell_type": "markdown",
   "metadata": {},
   "source": [
    "# This is Jeopardy!"
   ]
  },
  {
   "cell_type": "markdown",
   "metadata": {},
   "source": [
    "#### Overview"
   ]
  },
  {
   "cell_type": "markdown",
   "metadata": {},
   "source": [
    "This project is slightly different than others you have encountered thus far. Instead of a step-by-step tutorial, this project contains a series of open-ended requirements which describe the project you'll be building. There are many possible ways to correctly fulfill all of these requirements, and you should expect to use the internet, Codecademy, and/or other resources when you encounter a problem that you cannot easily solve."
   ]
  },
  {
   "cell_type": "markdown",
   "metadata": {},
   "source": [
    "#### Project Goals"
   ]
  },
  {
   "cell_type": "markdown",
   "metadata": {},
   "source": [
    "You will work to write several functions that investigate a dataset of _Jeopardy!_ questions and answers. Filter the dataset for topics that you're interested in, compute the average difficulty of those questions, and train to become the next Jeopardy champion!"
   ]
  },
  {
   "cell_type": "markdown",
   "metadata": {},
   "source": [
    "## Prerequisites"
   ]
  },
  {
   "cell_type": "markdown",
   "metadata": {},
   "source": [
    "In order to complete this project, you should have completed the Pandas lessons in the <a href=\"https://www.codecademy.com/learn/paths/analyze-data-with-python\">Analyze Data with Python Skill Path</a>. You can also find those lessons in the <a href=\"https://www.codecademy.com/learn/data-processing-pandas\">Data Analysis with Pandas course</a> or the <a href=\"https://www.codecademy.com/learn/paths/data-science/\">Data Scientist Career Path</a>.\n",
    "\n",
    "Finally, the <a href=\"https://www.codecademy.com/learn/practical-data-cleaning\">Practical Data Cleaning</a> course may also be helpful."
   ]
  },
  {
   "cell_type": "markdown",
   "metadata": {},
   "source": [
    "## Project Requirements"
   ]
  },
  {
   "cell_type": "markdown",
   "metadata": {},
   "source": [
    "1. We've provided a csv file containing data about the game show _Jeopardy!_ in a file named `jeopardy.csv`. Load the data into a DataFrame and investigate its contents. Try to print out specific columns.\n",
    "\n",
    "   Note that in order to make this project as \"real-world\" as possible, we haven't modified the data at all - we're giving it to you exactly how we found it. As a result, this data isn't as \"clean\" as the datasets you normally find on Codecademy. More specifically, there's something odd about the column names. After you figure out the problem with the column names, you may want to rename them to make your life easier for the rest of the project.\n",
    "   \n",
    "   In order to display the full contents of a column, we've added this line of code for you:\n",
    "   \n",
    "   ```py\n",
    "   pd.set_option('display.max_colwidth', None)\n",
    "   ```"
   ]
  },
  {
   "cell_type": "code",
   "execution_count": null,
   "metadata": {},
   "outputs": [],
   "source": [
    "import pandas as pd\n",
    "pd.set_option('display.max_colwidth', None)"
   ]
  },
  {
   "cell_type": "markdown",
   "metadata": {},
   "source": [
    "2. Write a function that filters the dataset for questions that contains all of the words in a list of words. For example, when the list `[\"King\", \"England\"]` was passed to our function, the function returned a DataFrame of 49 rows. Every row had the strings `\"King\"` and `\"England\"` somewhere in its `\" Question\"`.\n",
    "\n",
    "   Test your function by printing out the column containing the question of each row of the dataset."
   ]
  },
  {
   "cell_type": "code",
   "execution_count": 18,
   "metadata": {},
   "outputs": [
    {
     "name": "stderr",
     "output_type": "stream",
     "text": [
      "/var/folders/3y/kf3qlnbx58v3jnwys2pc89_r0000gn/T/ipykernel_69341/420041916.py:15: FutureWarning: The default value of regex will change from True to False in a future version.\n",
      "  df[column]\n"
     ]
    },
    {
     "data": {
      "text/html": [
       "<div>\n",
       "<style scoped>\n",
       "    .dataframe tbody tr th:only-of-type {\n",
       "        vertical-align: middle;\n",
       "    }\n",
       "\n",
       "    .dataframe tbody tr th {\n",
       "        vertical-align: top;\n",
       "    }\n",
       "\n",
       "    .dataframe thead th {\n",
       "        text-align: right;\n",
       "    }\n",
       "</style>\n",
       "<table border=\"1\" class=\"dataframe\">\n",
       "  <thead>\n",
       "    <tr style=\"text-align: right;\">\n",
       "      <th></th>\n",
       "      <th>show_number</th>\n",
       "      <th>air_date</th>\n",
       "      <th>round</th>\n",
       "      <th>category</th>\n",
       "      <th>value</th>\n",
       "      <th>question</th>\n",
       "      <th>answer</th>\n",
       "    </tr>\n",
       "  </thead>\n",
       "  <tbody>\n",
       "    <tr>\n",
       "      <th>6337</th>\n",
       "      <td>3517</td>\n",
       "      <td>1999-12-14</td>\n",
       "      <td>Double Jeopardy!</td>\n",
       "      <td>Y1K</td>\n",
       "      <td>$800</td>\n",
       "      <td>In retaliation for Viking raids, this \"Unready\" king of England attacks Norse areas of the Isle of Man</td>\n",
       "      <td>Ethelred</td>\n",
       "    </tr>\n",
       "    <tr>\n",
       "      <th>9191</th>\n",
       "      <td>3907</td>\n",
       "      <td>2001-09-04</td>\n",
       "      <td>Double Jeopardy!</td>\n",
       "      <td>WON THE BATTLE</td>\n",
       "      <td>$800</td>\n",
       "      <td>This king of England beat the odds to trounce the French in the 1415 Battle of Agincourt</td>\n",
       "      <td>Henry V</td>\n",
       "    </tr>\n",
       "    <tr>\n",
       "      <th>11710</th>\n",
       "      <td>2903</td>\n",
       "      <td>1997-03-26</td>\n",
       "      <td>Double Jeopardy!</td>\n",
       "      <td>BRITISH MONARCHS</td>\n",
       "      <td>$600</td>\n",
       "      <td>This Scotsman, the first Stuart king of England, was called \"The Wisest Fool in Christendom\"</td>\n",
       "      <td>James I</td>\n",
       "    </tr>\n",
       "    <tr>\n",
       "      <th>13454</th>\n",
       "      <td>4726</td>\n",
       "      <td>2005-03-07</td>\n",
       "      <td>Jeopardy!</td>\n",
       "      <td>A NUMBER FROM 1 TO 10</td>\n",
       "      <td>$1000</td>\n",
       "      <td>It's the number that followed the last king of England named William</td>\n",
       "      <td>4</td>\n",
       "    </tr>\n",
       "    <tr>\n",
       "      <th>14912</th>\n",
       "      <td>2832</td>\n",
       "      <td>1996-12-17</td>\n",
       "      <td>Jeopardy!</td>\n",
       "      <td>WORLD HISTORY</td>\n",
       "      <td>$100</td>\n",
       "      <td>This country's King Louis IV was nicknamed \"Louis From Overseas\" because he was raised in England</td>\n",
       "      <td>France</td>\n",
       "    </tr>\n",
       "    <tr>\n",
       "      <th>...</th>\n",
       "      <td>...</td>\n",
       "      <td>...</td>\n",
       "      <td>...</td>\n",
       "      <td>...</td>\n",
       "      <td>...</td>\n",
       "      <td>...</td>\n",
       "      <td>...</td>\n",
       "    </tr>\n",
       "    <tr>\n",
       "      <th>201168</th>\n",
       "      <td>3515</td>\n",
       "      <td>1999-12-10</td>\n",
       "      <td>Jeopardy!</td>\n",
       "      <td>BEFORE &amp; AFTER</td>\n",
       "      <td>$500</td>\n",
       "      <td>Popular Saint-Exupery character waiting around to become king of England</td>\n",
       "      <td>The Little Prince of Wales</td>\n",
       "    </tr>\n",
       "    <tr>\n",
       "      <th>204778</th>\n",
       "      <td>5899</td>\n",
       "      <td>2010-04-15</td>\n",
       "      <td>Double Jeopardy!</td>\n",
       "      <td>THE 13 COLONIES' NAME ORIGINS</td>\n",
       "      <td>$1200</td>\n",
       "      <td>This southern colony was named for a king of England, the II of that name</td>\n",
       "      <td>Georgia</td>\n",
       "    </tr>\n",
       "    <tr>\n",
       "      <th>208742</th>\n",
       "      <td>4863</td>\n",
       "      <td>2005-11-02</td>\n",
       "      <td>Double Jeopardy!</td>\n",
       "      <td>BEFORE &amp; AFTER</td>\n",
       "      <td>$3,000</td>\n",
       "      <td>Dutch-born king who ruled England jointly with Mary II &amp; is a tasty New Zealand fish</td>\n",
       "      <td>William of Orange roughy</td>\n",
       "    </tr>\n",
       "    <tr>\n",
       "      <th>213870</th>\n",
       "      <td>5856</td>\n",
       "      <td>2010-02-15</td>\n",
       "      <td>Double Jeopardy!</td>\n",
       "      <td>URANUS</td>\n",
       "      <td>$1600</td>\n",
       "      <td>In 1781 William Herschel discovered Uranus &amp; initially named it after this king of England</td>\n",
       "      <td>George III</td>\n",
       "    </tr>\n",
       "    <tr>\n",
       "      <th>216021</th>\n",
       "      <td>1881</td>\n",
       "      <td>1992-11-09</td>\n",
       "      <td>Double Jeopardy!</td>\n",
       "      <td>HISTORIC NAMES</td>\n",
       "      <td>$1000</td>\n",
       "      <td>His nickname was \"Bertie\", but he used this name &amp; number when he became king of England in 1901</td>\n",
       "      <td>Edward VII</td>\n",
       "    </tr>\n",
       "  </tbody>\n",
       "</table>\n",
       "<p>94 rows × 7 columns</p>\n",
       "</div>"
      ],
      "text/plain": [
       "        show_number    air_date             round  \\\n",
       "6337           3517  1999-12-14  Double Jeopardy!   \n",
       "9191           3907  2001-09-04  Double Jeopardy!   \n",
       "11710          2903  1997-03-26  Double Jeopardy!   \n",
       "13454          4726  2005-03-07         Jeopardy!   \n",
       "14912          2832  1996-12-17         Jeopardy!   \n",
       "...             ...         ...               ...   \n",
       "201168         3515  1999-12-10         Jeopardy!   \n",
       "204778         5899  2010-04-15  Double Jeopardy!   \n",
       "208742         4863  2005-11-02  Double Jeopardy!   \n",
       "213870         5856  2010-02-15  Double Jeopardy!   \n",
       "216021         1881  1992-11-09  Double Jeopardy!   \n",
       "\n",
       "                             category   value  \\\n",
       "6337                              Y1K    $800   \n",
       "9191                   WON THE BATTLE    $800   \n",
       "11710                BRITISH MONARCHS    $600   \n",
       "13454           A NUMBER FROM 1 TO 10   $1000   \n",
       "14912                   WORLD HISTORY    $100   \n",
       "...                               ...     ...   \n",
       "201168                 BEFORE & AFTER    $500   \n",
       "204778  THE 13 COLONIES' NAME ORIGINS   $1200   \n",
       "208742                 BEFORE & AFTER  $3,000   \n",
       "213870                         URANUS   $1600   \n",
       "216021                 HISTORIC NAMES   $1000   \n",
       "\n",
       "                                                                                                      question  \\\n",
       "6337    In retaliation for Viking raids, this \"Unready\" king of England attacks Norse areas of the Isle of Man   \n",
       "9191                  This king of England beat the odds to trounce the French in the 1415 Battle of Agincourt   \n",
       "11710             This Scotsman, the first Stuart king of England, was called \"The Wisest Fool in Christendom\"   \n",
       "13454                                     It's the number that followed the last king of England named William   \n",
       "14912        This country's King Louis IV was nicknamed \"Louis From Overseas\" because he was raised in England   \n",
       "...                                                                                                        ...   \n",
       "201168                                Popular Saint-Exupery character waiting around to become king of England   \n",
       "204778                               This southern colony was named for a king of England, the II of that name   \n",
       "208742                    Dutch-born king who ruled England jointly with Mary II & is a tasty New Zealand fish   \n",
       "213870              In 1781 William Herschel discovered Uranus & initially named it after this king of England   \n",
       "216021        His nickname was \"Bertie\", but he used this name & number when he became king of England in 1901   \n",
       "\n",
       "                            answer  \n",
       "6337                      Ethelred  \n",
       "9191                       Henry V  \n",
       "11710                      James I  \n",
       "13454                            4  \n",
       "14912                       France  \n",
       "...                            ...  \n",
       "201168  The Little Prince of Wales  \n",
       "204778                     Georgia  \n",
       "208742    William of Orange roughy  \n",
       "213870                  George III  \n",
       "216021                  Edward VII  \n",
       "\n",
       "[94 rows x 7 columns]"
      ]
     },
     "execution_count": 18,
     "metadata": {},
     "output_type": "execute_result"
    }
   ],
   "source": [
    "import pandas as pd\n",
    "import numpy as np\n",
    "import string\n",
    "pd.set_option('display.max_colwidth', None)\n",
    "jeop = pd.read_csv(\"jeopardy.csv\")\n",
    "jeop.columns = jeop.columns.str.replace(\" \", \"\")\n",
    "jeop.rename(columns = {\"AirDate\":\"air_date\", \"ShowNumber\":\"show_number\", \"Round\": \"round\",\"Category\": \"category\", \"Value\": \"value\", \"Question\": \"question\", \"Answer\": \"answer\"}, inplace = True)\n",
    "#print(jeop.head())\n",
    "\n",
    "def jeop_search(df,column, target_words):\n",
    "    #print(df[df[column].astype(str).str.contains(\"Hello|Britain\")]) \n",
    "    target_words = [word.lower() for word in target_words]\n",
    "    df = df.loc[[all(target_word in word_set for target_word in target_words) \n",
    "        for word_set in (set(words) for words in\n",
    "                         df[column]\n",
    "                         .str.lower()\n",
    "                         .str.replace('[{0}]*'.format(string.punctuation), '')\n",
    "                         .str.strip()\n",
    "                         .str.split())], :]\n",
    "\n",
    "    return df           \n",
    "jeop_search(jeop, \"question\", [\"King\", \"england\"])"
   ]
  },
  {
   "cell_type": "markdown",
   "metadata": {},
   "source": [
    "3. Test your original function with a few different sets of words to try to find some ways your function breaks. Edit your function so it is more robust.\n",
    "\n",
    "   For example, think about capitalization. We probably want to find questions that contain the word `\"King\"` or `\"king\"`.\n",
    "   \n",
    "   You may also want to check to make sure you don't find rows that contain substrings of your given words. For example, our function found a question that didn't contain the word `\"king\"`, however it did contain the word `\"viking\"` &mdash; it found the `\"king\"` inside `\"viking\"`. Note that this also comes with some drawbacks &mdash; you would no longer find questions that contained words like `\"England's\"`."
   ]
  },
  {
   "cell_type": "code",
   "execution_count": null,
   "metadata": {},
   "outputs": [],
   "source": [
    "\n",
    "\n"
   ]
  },
  {
   "cell_type": "markdown",
   "metadata": {},
   "source": [
    "4. We may want to eventually compute aggregate statistics, like `.mean()` on the `\" Value\"` column. But right now, the values in that column are strings. Convert the`\" Value\"` column to floats. If you'd like to, you can create a new column with float values.\n",
    "\n",
    "   Now that you can filter the dataset of question, use your new column that contains the float values of each question to find the \"difficulty\" of certain topics. For example, what is the average value of questions that contain the word `\"King\"`?\n",
    "   \n",
    "   Make sure to use the dataset that contains the float values as the dataset you use in your filtering function."
   ]
  },
  {
   "cell_type": "code",
   "execution_count": 67,
   "metadata": {},
   "outputs": [
    {
     "name": "stderr",
     "output_type": "stream",
     "text": [
      "/var/folders/3y/kf3qlnbx58v3jnwys2pc89_r0000gn/T/ipykernel_69341/3197574706.py:1: FutureWarning: The default value of regex will change from True to False in a future version. In addition, single character regular expressions will *not* be treated as literal strings when regex=True.\n",
      "  jeop[\"value\"]= jeop[\"value\"].str.replace(\"$\",\" \")\n",
      "/var/folders/3y/kf3qlnbx58v3jnwys2pc89_r0000gn/T/ipykernel_69341/420041916.py:15: FutureWarning: The default value of regex will change from True to False in a future version.\n",
      "  df[column]\n"
     ]
    },
    {
     "name": "stdout",
     "output_type": "stream",
     "text": [
      "3634\n"
     ]
    },
    {
     "ename": "AttributeError",
     "evalue": "'str' object has no attribute 'shift'",
     "output_type": "error",
     "traceback": [
      "\u001b[0;31m---------------------------------------------------------------------------\u001b[0m",
      "\u001b[0;31mAttributeError\u001b[0m                            Traceback (most recent call last)",
      "\u001b[0;32m/var/folders/3y/kf3qlnbx58v3jnwys2pc89_r0000gn/T/ipykernel_69341/3197574706.py\u001b[0m in \u001b[0;36m<module>\u001b[0;34m\u001b[0m\n\u001b[1;32m      6\u001b[0m \u001b[0;31m#print(jeop_find)\u001b[0m\u001b[0;34m\u001b[0m\u001b[0;34m\u001b[0m\u001b[0m\n\u001b[1;32m      7\u001b[0m \u001b[0;32mfor\u001b[0m \u001b[0mrow\u001b[0m \u001b[0;32min\u001b[0m \u001b[0mjeop_find\u001b[0m\u001b[0;34m:\u001b[0m\u001b[0;34m\u001b[0m\u001b[0;34m\u001b[0m\u001b[0m\n\u001b[0;32m----> 8\u001b[0;31m     \u001b[0mrow\u001b[0m\u001b[0;34m[\u001b[0m\u001b[0;34m\"value\"\u001b[0m\u001b[0;34m]\u001b[0m \u001b[0;34m=\u001b[0m \u001b[0mrow\u001b[0m\u001b[0;34m.\u001b[0m\u001b[0mshift\u001b[0m\u001b[0;34m(\u001b[0m\u001b[0;34m-\u001b[0m\u001b[0;36m1\u001b[0m\u001b[0;34m)\u001b[0m\u001b[0;34m[\u001b[0m\u001b[0;34m\"value\"\u001b[0m\u001b[0;34m]\u001b[0m\u001b[0;34m\u001b[0m\u001b[0;34m\u001b[0m\u001b[0m\n\u001b[0m\u001b[1;32m      9\u001b[0m     \u001b[0;31m#row[\"value\"]\u001b[0m\u001b[0;34m\u001b[0m\u001b[0;34m\u001b[0m\u001b[0m\n\u001b[1;32m     10\u001b[0m \u001b[0;34m\u001b[0m\u001b[0m\n",
      "\u001b[0;31mAttributeError\u001b[0m: 'str' object has no attribute 'shift'"
     ]
    }
   ],
   "source": [
    "jeop[\"value\"]= jeop[\"value\"].str.replace(\"$\",\" \")\n",
    "jeop[\"value\"]= jeop[\"value\"].str.replace(\",\",\"\")\n",
    "jeop_find=jeop_search(jeop, \"value\", [\"none\"])\n",
    "print(len(jeop_find))\n",
    "#print(jeop)\n",
    "#print(jeop_find)\n",
    "for row in jeop_find:\n",
    "    row[\"value\"] = row[\"value\"]\n",
    "    #row[\"value\"]\n",
    "\n",
    "\n",
    "#jeop[\"value\"] = jeop[\"value\"].fillna(method = \"ffill\")\n",
    "#jeop[\"value\"] = col\n",
    "\n",
    "\n",
    "#jeop[\"value\"]= jeop[\"value\"].astype(\"float\")\n",
    "#print(jeop.dtypes)\n",
    "\n"
   ]
  },
  {
   "cell_type": "markdown",
   "metadata": {},
   "source": [
    "5. Write a function that returns the count of unique answers to all of the questions in a dataset. For example, after filtering the entire dataset to only questions containing the word `\"King\"`, we could then find all of the unique answers to those questions. The answer \"Henry VIII\" appeared 55 times and was the most common answer."
   ]
  },
  {
   "cell_type": "code",
   "execution_count": null,
   "metadata": {},
   "outputs": [],
   "source": []
  },
  {
   "cell_type": "markdown",
   "metadata": {},
   "source": [
    "6. Explore from here! This is an incredibly rich dataset, and there are so many interesting things to discover. There are a few columns that we haven't even started looking at yet. Here are some ideas on ways to continue working with this data:\n",
    "\n",
    " * Investigate the ways in which questions change over time by filtering by the date. How many questions from the 90s use the word `\"Computer\"` compared to questions from the 2000s?\n",
    " * Is there a connection between the round and the category? Are you more likely to find certain categories, like `\"Literature\"` in Single Jeopardy or Double Jeopardy?\n",
    " * Build a system to quiz yourself. Grab random questions, and use the <a href=\"https://docs.python.org/3/library/functions.html#input\">input</a> function to get a response from the user. Check to see if that response was right or wrong."
   ]
  },
  {
   "cell_type": "code",
   "execution_count": null,
   "metadata": {},
   "outputs": [],
   "source": []
  },
  {
   "cell_type": "markdown",
   "metadata": {},
   "source": [
    "## Solution"
   ]
  },
  {
   "cell_type": "markdown",
   "metadata": {},
   "source": [
    "7. Compare your program to our <a href=\"https://content.codecademy.com/PRO/independent-practice-projects/jeopardy/jeopardy_solution.zip\">sample solution code</a> - remember, that your program might look different from ours (and probably will) and that's okay!"
   ]
  },
  {
   "cell_type": "markdown",
   "metadata": {},
   "source": [
    "8. Great work! Visit <a href=\"https://discuss.codecademy.com/t/this-is-jeopardy-challenge-project-python-pandas/462365\">our forums</a> to compare your project to our sample solution code. You can also learn how to host your own solution on GitHub so you can share it with other learners! Your solution might look different from ours, and that's okay! There are multiple ways to solve these projects, and you'll learn more by seeing others' code."
   ]
  },
  {
   "cell_type": "code",
   "execution_count": null,
   "metadata": {},
   "outputs": [],
   "source": []
  }
 ],
 "metadata": {
  "kernelspec": {
   "display_name": "Python 3.9.13 ('base')",
   "language": "python",
   "name": "python3"
  },
  "language_info": {
   "codemirror_mode": {
    "name": "ipython",
    "version": 3
   },
   "file_extension": ".py",
   "mimetype": "text/x-python",
   "name": "python",
   "nbconvert_exporter": "python",
   "pygments_lexer": "ipython3",
   "version": "3.9.13"
  },
  "vscode": {
   "interpreter": {
    "hash": "5b52164d9b9f5cfe346183b0f5414b5fbbbb623916b9cfd367aa4426dfe4ffdb"
   }
  }
 },
 "nbformat": 4,
 "nbformat_minor": 2
}
