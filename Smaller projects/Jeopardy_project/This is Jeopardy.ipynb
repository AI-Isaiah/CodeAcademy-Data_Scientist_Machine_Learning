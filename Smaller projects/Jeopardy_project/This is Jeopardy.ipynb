{
 "cells": [
  {
   "cell_type": "markdown",
   "metadata": {},
   "source": [
    "# This is Jeopardy!"
   ]
  },
  {
   "cell_type": "markdown",
   "metadata": {},
   "source": [
    "#### Overview"
   ]
  },
  {
   "cell_type": "markdown",
   "metadata": {},
   "source": [
    "This project is slightly different than others you have encountered thus far. Instead of a step-by-step tutorial, this project contains a series of open-ended requirements which describe the project you'll be building. There are many possible ways to correctly fulfill all of these requirements, and you should expect to use the internet, Codecademy, and/or other resources when you encounter a problem that you cannot easily solve."
   ]
  },
  {
   "cell_type": "markdown",
   "metadata": {},
   "source": [
    "#### Project Goals"
   ]
  },
  {
   "cell_type": "markdown",
   "metadata": {},
   "source": [
    "You will work to write several functions that investigate a dataset of _Jeopardy!_ questions and answers. Filter the dataset for topics that you're interested in, compute the average difficulty of those questions, and train to become the next Jeopardy champion!"
   ]
  },
  {
   "cell_type": "markdown",
   "metadata": {},
   "source": [
    "## Prerequisites"
   ]
  },
  {
   "cell_type": "markdown",
   "metadata": {},
   "source": [
    "In order to complete this project, you should have completed the Pandas lessons in the <a href=\"https://www.codecademy.com/learn/paths/analyze-data-with-python\">Analyze Data with Python Skill Path</a>. You can also find those lessons in the <a href=\"https://www.codecademy.com/learn/data-processing-pandas\">Data Analysis with Pandas course</a> or the <a href=\"https://www.codecademy.com/learn/paths/data-science/\">Data Scientist Career Path</a>.\n",
    "\n",
    "Finally, the <a href=\"https://www.codecademy.com/learn/practical-data-cleaning\">Practical Data Cleaning</a> course may also be helpful."
   ]
  },
  {
   "cell_type": "markdown",
   "metadata": {},
   "source": [
    "## Project Requirements"
   ]
  },
  {
   "cell_type": "markdown",
   "metadata": {},
   "source": [
    "1. We've provided a csv file containing data about the game show _Jeopardy!_ in a file named `jeopardy.csv`. Load the data into a DataFrame and investigate its contents. Try to print out specific columns.\n",
    "\n",
    "   Note that in order to make this project as \"real-world\" as possible, we haven't modified the data at all - we're giving it to you exactly how we found it. As a result, this data isn't as \"clean\" as the datasets you normally find on Codecademy. More specifically, there's something odd about the column names. After you figure out the problem with the column names, you may want to rename them to make your life easier for the rest of the project.\n",
    "   \n",
    "   In order to display the full contents of a column, we've added this line of code for you:\n",
    "   \n",
    "   ```py\n",
    "   pd.set_option('display.max_colwidth', None)\n",
    "   ```"
   ]
  },
  {
   "cell_type": "code",
   "execution_count": 62,
   "metadata": {},
   "outputs": [],
   "source": [
    "import pandas as pd\n",
    "pd.set_option('display.max_colwidth', None)"
   ]
  },
  {
   "cell_type": "markdown",
   "metadata": {},
   "source": [
    "2. Write a function that filters the dataset for questions that contains all of the words in a list of words. For example, when the list `[\"King\", \"England\"]` was passed to our function, the function returned a DataFrame of 49 rows. Every row had the strings `\"King\"` and `\"England\"` somewhere in its `\" Question\"`.\n",
    "\n",
    "   Test your function by printing out the column containing the question of each row of the dataset."
   ]
  },
  {
   "cell_type": "code",
   "execution_count": 63,
   "metadata": {},
   "outputs": [
    {
     "name": "stdout",
     "output_type": "stream",
     "text": [
      "       show_number    air_date             round               category  \\\n",
      "4953          3003  1997-09-24  Double Jeopardy!           \"PH\"UN WORDS   \n",
      "6337          3517  1999-12-14  Double Jeopardy!                    Y1K   \n",
      "9191          3907  2001-09-04  Double Jeopardy!         WON THE BATTLE   \n",
      "11710         2903  1997-03-26  Double Jeopardy!       BRITISH MONARCHS   \n",
      "13454         4726  2005-03-07         Jeopardy!  A NUMBER FROM 1 TO 10   \n",
      "\n",
      "       value  \\\n",
      "4953    $200   \n",
      "6337    $800   \n",
      "9191    $800   \n",
      "11710   $600   \n",
      "13454  $1000   \n",
      "\n",
      "                                                                                                     question  \\\n",
      "4953                 Both England's King George V & FDR put their stamp of approval on this \"King of Hobbies\"   \n",
      "6337   In retaliation for Viking raids, this \"Unready\" king of England attacks Norse areas of the Isle of Man   \n",
      "9191                 This king of England beat the odds to trounce the French in the 1415 Battle of Agincourt   \n",
      "11710            This Scotsman, the first Stuart king of England, was called \"The Wisest Fool in Christendom\"   \n",
      "13454                                    It's the number that followed the last king of England named William   \n",
      "\n",
      "                             answer  \n",
      "4953   Philately (stamp collecting)  \n",
      "6337                       Ethelred  \n",
      "9191                        Henry V  \n",
      "11710                       James I  \n",
      "13454                             4  \n"
     ]
    }
   ],
   "source": [
    "import numpy as np\n",
    "import string\n",
    "pd.set_option('display.max_colwidth', None)\n",
    "jeop_df = pd.read_csv(\"jeopardy.csv\")\n",
    "jeop_df.columns = jeop_df.columns.str.replace(\" \", \"\")\n",
    "jeop_df.rename(columns = {\"AirDate\":\"air_date\", \"ShowNumber\":\"show_number\", \"Round\": \"round\",\"Category\": \"category\", \"Value\": \"value\", \"Question\": \"question\", \"Answer\": \"answer\"}, inplace = True)\n",
    "#print(jeop.head())\n",
    "\n",
    "\"\"\"def jeop_search(df,column, target_words):\n",
    "    #print(df[df[column].astype(str).str.contains(\"Hello|Britain\")]) \n",
    "    target_words = [word.lower() for word in target_words]\n",
    "    df = df.loc[[all(target_word in word_set for target_word in target_words) \n",
    "        for word_set in (set(words) for words in\n",
    "                         df[column]\n",
    "                         .str.lower()\n",
    "                         .str.replace('[{0}]*'.format(string.punctuation), '')\n",
    "                         .str.strip()\n",
    "                         .str.split())], :]\n",
    "\n",
    "    return df  \"\"\"\n",
    "\n",
    "\n",
    "def jeop_search(data, words):\n",
    "  # Lowercases all words in the list of words as well as the questions. Returns true is all of the words in the list appear in the question.\n",
    "  filter = lambda x: all(word.lower() in x.lower() for word in words)\n",
    "  # Applies the labmda function to the Question column and returns the rows where the function returned True\n",
    "  return data.loc[data[\"question\"].apply(filter)]         \n",
    "\n",
    "filtered = jeop_search(jeop_df, [\"King\", \"england\"])\n",
    "print(filtered.head())\n"
   ]
  },
  {
   "cell_type": "markdown",
   "metadata": {},
   "source": [
    "3. Test your original function with a few different sets of words to try to find some ways your function breaks. Edit your function so it is more robust.\n",
    "\n",
    "   For example, think about capitalization. We probably want to find questions that contain the word `\"King\"` or `\"king\"`.\n",
    "   \n",
    "   You may also want to check to make sure you don't find rows that contain substrings of your given words. For example, our function found a question that didn't contain the word `\"king\"`, however it did contain the word `\"viking\"` &mdash; it found the `\"king\"` inside `\"viking\"`. Note that this also comes with some drawbacks &mdash; you would no longer find questions that contained words like `\"England's\"`."
   ]
  },
  {
   "cell_type": "code",
   "execution_count": null,
   "metadata": {},
   "outputs": [],
   "source": [
    "\n",
    "\n"
   ]
  },
  {
   "cell_type": "markdown",
   "metadata": {},
   "source": [
    "4. We may want to eventually compute aggregate statistics, like `.mean()` on the `\" Value\"` column. But right now, the values in that column are strings. Convert the`\" Value\"` column to floats. If you'd like to, you can create a new column with float values.\n",
    "\n",
    "   Now that you can filter the dataset of question, use your new column that contains the float values of each question to find the \"difficulty\" of certain topics. For example, what is the average value of questions that contain the word `\"King\"`?\n",
    "   \n",
    "   Make sure to use the dataset that contains the float values as the dataset you use in your filtering function."
   ]
  },
  {
   "cell_type": "code",
   "execution_count": 69,
   "metadata": {},
   "outputs": [
    {
     "name": "stdout",
     "output_type": "stream",
     "text": [
      "len Jeop DF 216930\n",
      "len filtered 7409\n",
      "771.8833850722094\n",
      "7409\n"
     ]
    }
   ],
   "source": [
    "#print(jeop_df[\"value\"][0][0])\n",
    "if jeop_df[\"value\"].dtype != float:\n",
    "    jeop_df[\"value\"]= jeop_df[\"value\"].str.replace(\"$\",\" \")\n",
    "    jeop_df[\"value\"]= jeop_df[\"value\"].str.replace(\",\",\"\")\n",
    "    jeop_df[\"value\"] = jeop_df[\"value\"].replace(\"None\", 0)\n",
    "    #jeop_df['value'].ffill(axis=0, inplace=True) \n",
    "#print(jeop_df.isnull().sum())\n",
    "print(\"len Jeop DF\", len(jeop_df))\n",
    "jeop_df[\"value\"]= jeop_df[\"value\"].astype(\"float\")\n",
    "#print(jeop_df.dtypes)\n",
    "filtered = jeop_search(jeop_df,[\"King\"])\n",
    "print(\"len filtered\", len(filtered))\n",
    "print(filtered.value.mean())\n",
    "questions_king = jeop_search(jeop_df, [\"King\"])\n",
    "print(len(questions_king))"
   ]
  },
  {
   "cell_type": "markdown",
   "metadata": {},
   "source": [
    "5. Write a function that returns the count of unique answers to all of the questions in a dataset. For example, after filtering the entire dataset to only questions containing the word `\"King\"`, we could then find all of the unique answers to those questions. The answer \"Henry VIII\" appeared 55 times and was the most common answer."
   ]
  },
  {
   "cell_type": "code",
   "execution_count": 65,
   "metadata": {},
   "outputs": [
    {
     "data": {
      "text/plain": [
       "Henry VIII                   55\n",
       "Solomon                      35\n",
       "Richard III                  33\n",
       "Louis XIV                    31\n",
       "David                        30\n",
       "                             ..\n",
       "cardiac (in card I acted)     1\n",
       "Henderson                     1\n",
       "Computer                      1\n",
       "Indians                       1\n",
       "work                          1\n",
       "Name: answer, Length: 5268, dtype: int64"
      ]
     },
     "execution_count": 65,
     "metadata": {},
     "output_type": "execute_result"
    }
   ],
   "source": [
    "\n",
    "#print(questions_king.head())\n",
    "questions_king.answer.value_counts()"
   ]
  },
  {
   "cell_type": "markdown",
   "metadata": {},
   "source": [
    "6. Explore from here! This is an incredibly rich dataset, and there are so many interesting things to discover. There are a few columns that we haven't even started looking at yet. Here are some ideas on ways to continue working with this data:\n",
    "\n",
    " * Investigate the ways in which questions change over time by filtering by the date. How many questions from the 90s use the word `\"Computer\"` compared to questions from the 2000s?\n",
    " * Is there a connection between the round and the category? Are you more likely to find certain categories, like `\"Literature\"` in Single Jeopardy or Double Jeopardy?\n",
    " * Build a system to quiz yourself. Grab random questions, and use the <a href=\"https://docs.python.org/3/library/functions.html#input\">input</a> function to get a response from the user. Check to see if that response was right or wrong."
   ]
  },
  {
   "cell_type": "code",
   "execution_count": null,
   "metadata": {},
   "outputs": [],
   "source": []
  },
  {
   "cell_type": "markdown",
   "metadata": {},
   "source": [
    "## Solution"
   ]
  },
  {
   "cell_type": "markdown",
   "metadata": {},
   "source": [
    "7. Compare your program to our <a href=\"https://content.codecademy.com/PRO/independent-practice-projects/jeopardy/jeopardy_solution.zip\">sample solution code</a> - remember, that your program might look different from ours (and probably will) and that's okay!"
   ]
  },
  {
   "cell_type": "markdown",
   "metadata": {},
   "source": [
    "8. Great work! Visit <a href=\"https://discuss.codecademy.com/t/this-is-jeopardy-challenge-project-python-pandas/462365\">our forums</a> to compare your project to our sample solution code. You can also learn how to host your own solution on GitHub so you can share it with other learners! Your solution might look different from ours, and that's okay! There are multiple ways to solve these projects, and you'll learn more by seeing others' code."
   ]
  },
  {
   "cell_type": "code",
   "execution_count": null,
   "metadata": {},
   "outputs": [],
   "source": []
  }
 ],
 "metadata": {
  "kernelspec": {
   "display_name": "Python 3.9.13 ('base')",
   "language": "python",
   "name": "python3"
  },
  "language_info": {
   "codemirror_mode": {
    "name": "ipython",
    "version": 3
   },
   "file_extension": ".py",
   "mimetype": "text/x-python",
   "name": "python",
   "nbconvert_exporter": "python",
   "pygments_lexer": "ipython3",
   "version": "3.9.13"
  },
  "vscode": {
   "interpreter": {
    "hash": "5b52164d9b9f5cfe346183b0f5414b5fbbbb623916b9cfd367aa4426dfe4ffdb"
   }
  }
 },
 "nbformat": 4,
 "nbformat_minor": 2
}
